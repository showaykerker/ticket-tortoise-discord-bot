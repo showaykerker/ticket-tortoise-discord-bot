{
 "cells": [
  {
   "cell_type": "code",
   "execution_count": 2,
   "metadata": {},
   "outputs": [],
   "source": [
    "import asyncio\n",
    "import requests\n",
    "\n",
    "from selenium import webdriver\n",
    "from selenium.webdriver.chrome.options import Options as ChromeOptions\n",
    "from selenium.webdriver.chrome.service import Service as ChromeService\n",
    "from pydantic import BaseModel\n",
    "\n",
    "from typing import List\n",
    "from typing import Optional\n",
    "from typing import Tuple\n",
    "from typing import Union\n",
    "\n",
    "from bs4 import BeautifulSoup\n"
   ]
  },
  {
   "cell_type": "code",
   "execution_count": 3,
   "metadata": {},
   "outputs": [],
   "source": [
    "from ticket_plus_crawler import TicketPlusCrawler"
   ]
  },
  {
   "cell_type": "code",
   "execution_count": 4,
   "metadata": {},
   "outputs": [],
   "source": [
    "crawler = TicketPlusCrawler(\n",
    "        urls=[\n",
    "            \"https://ticketplus.com.tw/activity/b9e6a9a22eea2003946b55c5924e72b2?fbclid=IwAR3wSDTOy4hoMUj-Xpu6ma5tLYiJJC2yxwArW_SDuz8QgyH3W3jYbfmWOXA\",\n",
    "            \"https://ticketplus.com.tw/activity/ea11993dd92ca5a4b41e1c9793452e46\",\n",
    "            \"https://ticketplus.com.tw/activity/412bc49904bbd0f6ab1ed1c2b2a22f4f\",\n",
    "            \"https://ticketplus.com.tw/activity/b0b7808cd4e5ba73763b9c5f583b98f2\"\n",
    "        ]\n",
    "    )"
   ]
  },
  {
   "cell_type": "code",
   "execution_count": null,
   "metadata": {},
   "outputs": [],
   "source": []
  }
 ],
 "metadata": {
  "kernelspec": {
   "display_name": ".venv",
   "language": "python",
   "name": "python3"
  },
  "language_info": {
   "codemirror_mode": {
    "name": "ipython",
    "version": 3
   },
   "file_extension": ".py",
   "mimetype": "text/x-python",
   "name": "python",
   "nbconvert_exporter": "python",
   "pygments_lexer": "ipython3",
   "version": "3.9.5"
  }
 },
 "nbformat": 4,
 "nbformat_minor": 2
}
