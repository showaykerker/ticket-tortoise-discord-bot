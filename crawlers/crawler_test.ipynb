{
 "cells": [
  {
   "cell_type": "code",
   "execution_count": 1,
   "metadata": {},
   "outputs": [],
   "source": [
    "import asyncio\n",
    "import requests\n",
    "\n",
    "from selenium import webdriver\n",
    "from selenium.webdriver.chrome.options import Options as ChromeOptions\n",
    "from selenium.webdriver.chrome.service import Service as ChromeService\n",
    "from pydantic import BaseModel\n",
    "\n",
    "from typing import List\n",
    "from typing import Optional\n",
    "from typing import Tuple\n",
    "from typing import Union\n",
    "\n",
    "from bs4 import BeautifulSoup\n"
   ]
  },
  {
   "cell_type": "code",
   "execution_count": 3,
   "metadata": {},
   "outputs": [],
   "source": [
    "from crawlers.crawler_base import TicketPlusCrawler"
   ]
  },
  {
   "cell_type": "code",
   "execution_count": 40,
   "metadata": {},
   "outputs": [],
   "source": [
    "crawler = TicketPlusCrawler(\n",
    "        names=[\"萬青\", \"fine\", \"radwimps\"],\n",
    "        urls=[\n",
    "            \"https://ticketplus.com.tw/activity/b9e6a9a22eea2003946b55c5924e72b2?fbclid=IwAR3wSDTOy4hoMUj-Xpu6ma5tLYiJJC2yxwArW_SDuz8QgyH3W3jYbfmWOXA\",\n",
    "            \"https://ticketplus.com.tw/activity/ea11993dd92ca5a4b41e1c9793452e46\",\n",
    "            \"https://ticketplus.com.tw/activity/412bc49904bbd0f6ab1ed1c2b2a22f4f\"\n",
    "        ]\n",
    "    )"
   ]
  },
  {
   "cell_type": "code",
   "execution_count": 41,
   "metadata": {},
   "outputs": [
    {
     "name": "stdout",
     "output_type": "stream",
     "text": [
      "dict_keys(['萬青', 'fine', 'radwimps'])\n"
     ]
    }
   ],
   "source": [
    "print(crawler.soups.keys())"
   ]
  },
  {
   "cell_type": "code",
   "execution_count": 45,
   "metadata": {},
   "outputs": [],
   "source": [
    "# soup = crawler.soups[\"radwimps\"]\n",
    "soup = crawler.soups[\"萬青\"]\n",
    "# soup = crawler.soups[\"fine\"]\n"
   ]
  },
  {
   "cell_type": "code",
   "execution_count": 51,
   "metadata": {},
   "outputs": [
    {
     "name": "stdout",
     "output_type": "stream",
     "text": [
      "None None None\n",
      "True False False\n",
      "None None None\n",
      "True False False\n",
      "None None None\n",
      "True False False\n",
      "None None None\n",
      "True False False\n"
     ]
    }
   ],
   "source": [
    "for _sess in soup.find_all(\"div\", class_=\"sesstion-item\"):\n",
    "    sess = _sess.find(\"div\")\n",
    "    first_child = sess.contents[0]\n",
    "    second_child = sess.contents[1]\n",
    "    # print(first_child)\n",
    "    \"\"\" parse from\n",
    "    <div class=\"col-sm-10 col-md-10 col-12 text-small\" data-v-0aa5f412=\"\"><div class=\"row mx-0 flex-column flex-md-row no-gutters\" data-v-0aa5f412=\"\"><div class=\"d-flex text-left font-weight-bold text-regular py-2 is-word-break col-sm-12 col-md-4 col-12 align-self-left\" data-v-0aa5f412=\"\">\n",
    "                萬能青年旅店 – 『冀西南林路行-亞洲巡演』台中站\n",
    "              </div><div class=\"px-md-2 d-flex justify-md-center align-left align-md-center col-sm-12 col-md-2 col-12\" data-v-0aa5f412=\"\"><div class=\"d-flex mb-2 mb-md-0\" data-v-0aa5f412=\"\"><div class=\"grey--text text--darken-1 d-block d-md-none mr-2 wordBreakKeepAll\" data-v-0aa5f412=\"\">日期</div><div data-v-0aa5f412=\"\">2024-03-14(四)</div></div></div><div class=\"px-md-2 d-flex justify-md-center align-md-center col-sm-12 col-md-2 col-12\" data-v-0aa5f412=\"\"><div class=\"d-flex mb-2 mb-md-0\" data-v-0aa5f412=\"\"><div class=\"grey--text text--darken-1 d-block d-md-none mr-2 wordBreakKeepAll\" data-v-0aa5f412=\"\">時間</div><div data-v-0aa5f412=\"\">20:00</div></div></div><div class=\"px-md-2 d-flex justify-md-center align-md-center is-word-break col-sm-12 col-md-4 col-12\" data-v-0aa5f412=\"\"><div class=\"d-flex mb-2 mb-md-0\" data-v-0aa5f412=\"\"><div class=\"grey--text text--darken-1 d-block d-md-none mr-2 wordBreakKeepAll\" data-v-0aa5f412=\"\">地點</div><div class=\"text-left text-md-center location-content\" data-v-0aa5f412=\"\">\n",
    "                    Legacy Taichung\n",
    "                    <div class=\"grey--text text--darken-3 text-small d-inline d-md-block\" data-v-0aa5f412=\"\">\n",
    "                      台中市西屯區安和路117號\n",
    "                    </div></div></div></div></div></div>\n",
    "    \"\"\"\n",
    "\n",
    "    soldout = second_child.find(\"div\", class_=\"grey--text text-title\") is not None  # 銷售一空\n",
    "    notyet = second_child.find(\"button\", class_=\"v-btn v-btn--block v-btn--outlined v-btn--rounded theme--light v-size--default primary--text\") is not None  # 尚未開賣\n",
    "    available = second_child.find(\"button\", class_=\"nextBtn float-right v-btn v-btn--block v-btn--has-bg v-btn--rounded theme--dark v-size--default\") is not None # 立即購買\n",
    "    print(soldout, notyet, available)\n"
   ]
  },
  {
   "cell_type": "code",
   "execution_count": null,
   "metadata": {},
   "outputs": [],
   "source": []
  }
 ],
 "metadata": {
  "kernelspec": {
   "display_name": ".venv",
   "language": "python",
   "name": "python3"
  },
  "language_info": {
   "codemirror_mode": {
    "name": "ipython",
    "version": 3
   },
   "file_extension": ".py",
   "mimetype": "text/x-python",
   "name": "python",
   "nbconvert_exporter": "python",
   "pygments_lexer": "ipython3",
   "version": "3.9.5"
  }
 },
 "nbformat": 4,
 "nbformat_minor": 2
}
