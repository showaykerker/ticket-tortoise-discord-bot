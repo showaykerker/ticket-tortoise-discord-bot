{
 "cells": [
  {
   "cell_type": "code",
   "execution_count": 1,
   "metadata": {},
   "outputs": [],
   "source": [
    "import asyncio\n",
    "import requests\n",
    "\n",
    "from selenium import webdriver\n",
    "from selenium.webdriver.chrome.options import Options as ChromeOptions\n",
    "from selenium.webdriver.chrome.service import Service as ChromeService\n",
    "from pydantic import BaseModel\n",
    "\n",
    "from typing import List\n",
    "from typing import Optional\n",
    "from typing import Tuple\n",
    "from typing import Union\n",
    "\n",
    "from bs4 import BeautifulSoup\n"
   ]
  },
  {
   "cell_type": "code",
   "execution_count": 31,
   "metadata": {},
   "outputs": [],
   "source": [
    "from era_ticket_crawler import EraTicketCrawler\n",
    "from crawler_base import SeatArea\n",
    "from crawler_base import ShowTime\n",
    "from crawler_base import Activity"
   ]
  },
  {
   "cell_type": "code",
   "execution_count": 37,
   "metadata": {},
   "outputs": [],
   "source": [
    "crawler = EraTicketCrawler(\n",
    "    urls=[\n",
    "        # \"https://ticket.com.tw/application/UTK02/UTK0201_00.aspx?PRODUCT_ID=P0DXG163\",\n",
    "        \"https://ticket.com.tw/application/UTK02/UTK0201_00.aspx?PRODUCT_ID=P0CNUP9W\",  # 取消演出\n",
    "        # \"https://ticket.com.tw/application/UTK02/UTK0201_00.aspx?PRODUCT_ID=P0C9W4PE\",\n",
    "    ]\n",
    ")"
   ]
  },
  {
   "cell_type": "code",
   "execution_count": 38,
   "metadata": {},
   "outputs": [],
   "source": [
    "soups = crawler.get_soups(crawler.urls)"
   ]
  },
  {
   "cell_type": "code",
   "execution_count": 39,
   "metadata": {},
   "outputs": [],
   "source": [
    "soup = soups[0]\n",
    "#soup"
   ]
  },
  {
   "cell_type": "code",
   "execution_count": 40,
   "metadata": {},
   "outputs": [
    {
     "name": "stdout",
     "output_type": "stream",
     "text": [
      "2024-02-21 14:00 [] ['2800', '1800'] True\n",
      "2024-02-21 19:00 [] ['2800', '1800'] True\n"
     ]
    }
   ],
   "source": [
    "\n",
    "title = soup.find(\"h1\", {\"align\": \"center\"}).find(\"span\", {\"class\": \"title\"}).text\n",
    "info_body = soup.find(\"tbody\")\n",
    "show_times = []\n",
    "for i_sess, sess in enumerate(info_body.find_all(\"tr\")):\n",
    "    sess_info = sess.find_all(\"td\")\n",
    "    # Parse date from <time class=\"icon\"> in first <td>\n",
    "    sess_date = sess_info[0].find(\"time\", {\"class\": \"icon\"})[\"datetime\"].strip()\n",
    "    sess_time = sess_info[0].find(\"span\", {\"class\": \"time\"}).text.strip()\n",
    "    all_prices = sess_info[2].find(\"span\").text.strip().split(\"、\")\n",
    "    sold_out_prices = sess_info[2].find(\"span\").find_all(\"del\")\n",
    "    sold_out_prices = list(map(lambda x: x.text.strip(), sold_out_prices))\n",
    "    is_cancelled = \"取消\" in sess_info[3].find(\"button\").text.strip()\n",
    "    print(sess_date, sess_time, sold_out_prices, all_prices, is_cancelled)\n",
    "    seat_areas = []\n",
    "    for i_price, price in enumerate(all_prices):\n",
    "        seat_areas.append(SeatArea(\n",
    "            id_ = i_price,\n",
    "            name = str(price),\n",
    "            available = price not in sold_out_prices and not is_cancelled))\n",
    "    show_times.append(ShowTime(\n",
    "        id_ = i_sess,\n",
    "        name = f\"{sess_date} {sess_time}\",\n",
    "        datetime = f\"{sess_date} {sess_time}\",\n",
    "        seat_areas = seat_areas,\n",
    "        available = any([area.available for area in seat_areas])))"
   ]
  },
  {
   "cell_type": "code",
   "execution_count": null,
   "metadata": {},
   "outputs": [],
   "source": []
  }
 ],
 "metadata": {
  "kernelspec": {
   "display_name": ".venv",
   "language": "python",
   "name": "python3"
  },
  "language_info": {
   "codemirror_mode": {
    "name": "ipython",
    "version": 3
   },
   "file_extension": ".py",
   "mimetype": "text/x-python",
   "name": "python",
   "nbconvert_exporter": "python",
   "pygments_lexer": "ipython3",
   "version": "3.9.5"
  }
 },
 "nbformat": 4,
 "nbformat_minor": 2
}
